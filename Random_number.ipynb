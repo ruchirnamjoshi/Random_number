{
  "nbformat": 4,
  "nbformat_minor": 0,
  "metadata": {
    "colab": {
      "name": "Random_number.ipynb",
      "provenance": [],
      "collapsed_sections": []
    },
    "kernelspec": {
      "name": "python3",
      "display_name": "Python 3"
    },
    "language_info": {
      "name": "python"
    }
  },
  "cells": [
    {
      "cell_type": "code",
      "execution_count": 38,
      "metadata": {
        "id": "gAnXHr-hvUOM"
      },
      "outputs": [],
      "source": [
        "import numpy as np\n",
        "import time\n",
        "from matplotlib import pyplot as plt"
      ]
    },
    {
      "cell_type": "markdown",
      "source": [
        "1.Design a function to generate random numbers without the help of any internal or external library of python(build the function from scratch)\n"
      ],
      "metadata": {
        "id": "THjaARjH6hEC"
      }
    },
    {
      "cell_type": "code",
      "source": [
        "rand=7\n",
        "def myran():\n",
        "   a = 1140671485\n",
        "   c = 128201163\n",
        "   m = 2**24\n",
        "   global rand\n",
        "   rand = (a*rand + c) % m\n",
        "   return rand\n",
        "   \n",
        "  \n"
      ],
      "metadata": {
        "id": "v9aotvgUvZwF"
      },
      "execution_count": 49,
      "outputs": []
    },
    {
      "cell_type": "markdown",
      "source": [
        "2.Prove that the function is generating random numbers by plotting the generated points with any visualization library of python(for example matplotlib)."
      ],
      "metadata": {
        "id": "iidqtqKj6mlI"
      }
    },
    {
      "cell_type": "code",
      "source": [
        "a=[]\n",
        "c=[]\n",
        "x=0\n",
        "for i in range(50):\n",
        "  a.append( myran())\n",
        "  c.append(x)\n",
        "  x=x+1;\n",
        "print(len(a))\n",
        "\n",
        "\n",
        "print(len(c))"
      ],
      "metadata": {
        "colab": {
          "base_uri": "https://localhost:8080/"
        },
        "id": "0NLiTsHuwGMV",
        "outputId": "04b378a5-ee15-44f5-8bed-b2e034b6e67e"
      },
      "execution_count": 50,
      "outputs": [
        {
          "output_type": "stream",
          "name": "stdout",
          "text": [
            "50\n",
            "50\n"
          ]
        }
      ]
    },
    {
      "cell_type": "code",
      "source": [
        "plt.scatter(a,c)"
      ],
      "metadata": {
        "colab": {
          "base_uri": "https://localhost:8080/",
          "height": 296
        },
        "id": "iAoE2gf81icG",
        "outputId": "46b31158-d353-4924-df94-6ca120ce1231"
      },
      "execution_count": 51,
      "outputs": [
        {
          "output_type": "execute_result",
          "data": {
            "text/plain": [
              "<matplotlib.collections.PathCollection at 0x7f7033e913d0>"
            ]
          },
          "metadata": {},
          "execution_count": 51
        },
        {
          "output_type": "display_data",
          "data": {
            "text/plain": [
              "<Figure size 432x288 with 1 Axes>"
            ],
            "image/png": "[encoded data removed]"
          },
          "metadata": {
            "needs_background": "light"
          }
        }
      ]
    },
    {
      "cell_type": "code",
      "source": [
        "def pi_estimator(samples):\n",
        "    points_inside_circle= 0\n",
        "    total_num_points = 0\n",
        "    \n",
        "\n",
        "    for i in range(samples):\n",
        "        X= myran()\n",
        "        Y= myran()\n",
        "        distance = X**2 + Y**2\n",
        "        if distance <= 300000000000000:\n",
        "            points_inside_circle +=1\n",
        "        total_num_points += 1\n",
        "    return 4* points_inside_circle/total_num_points\n",
        "pi_estimator(10000)"
      ],
      "metadata": {
        "colab": {
          "base_uri": "https://localhost:8080/"
        },
        "id": "J0uHn0YluJcR",
        "outputId": "adb78b9c-5a50-4e18-8a46-aaa21cd06678"
      },
      "execution_count": 102,
      "outputs": [
        {
          "output_type": "execute_result",
          "data": {
            "text/plain": [
              "3.302"
            ]
          },
          "metadata": {},
          "execution_count": 102
        }
      ]
    }
  ]
}